{
 "cells": [
  {
   "cell_type": "code",
   "execution_count": 55,
   "metadata": {},
   "outputs": [],
   "source": [
    "import numpy as np\n",
    "import cv2 \n",
    "import scipy\n",
    "import matplotlib.pylab as plt\n",
    "import io"
   ]
  },
  {
   "cell_type": "code",
   "execution_count": 56,
   "metadata": {},
   "outputs": [],
   "source": [
    "AruCo_dict = cv2.aruco.Dictionary_get(cv2.aruco.DICT_4X4_1000)\n",
    "AruCo_params = cv2.aruco.DetectorParameters_create()\n",
    "board = cv2.aruco.GridBoard_create(1, 1, 0.08,0.005, AruCo_dict)\n"
   ]
  },
  {
   "cell_type": "code",
   "execution_count": 57,
   "metadata": {},
   "outputs": [],
   "source": [
    "def draw_axis(img, corners, imgpts) :\n",
    "    corner = tuple(corners[0].ravel().astype(int))\n",
    "    img = cv2.line(img, corner, tuple(imgpts[0].ravel().astype(int)), (255,0,0), 5)\n",
    "    img = cv2.line(img, corner, tuple(imgpts[1].ravel().astype(int)), (0,255,0), 5)\n",
    "    img = cv2.line(img, corner, tuple(imgpts[2].ravel().astype(int)), (0,0,255), 5)\n",
    "    return img"
   ]
  },
  {
   "cell_type": "code",
   "execution_count": 58,
   "metadata": {},
   "outputs": [],
   "source": [
    "def write_text(img, pose, dy, text) :\n",
    "    x0 = pose[0]\n",
    "    y0 = pose[1]\n",
    "    for i, line in enumerate(text.split('\\n')) :\n",
    "        y = y0 + i*dy\n",
    "        cv2.putText(img, line, np.int32([x0, y]), cv2.FONT_HERSHEY_COMPLEX, 0.4, (0,255,0), 1) #### ปรับ รูปแบบตัวอักษร x,y,z"
   ]
  },
  {
   "cell_type": "code",
   "execution_count": 59,
   "metadata": {},
   "outputs": [],
   "source": [
    "def augmented_image(frame,qr_img, pts_src, pts_dst):\n",
    "    # Calculate Homography\n",
    "    h,status  = cv2.findHomography(pts_src, pts_dst)\n",
    "    # Warp source image to destination based on homography\n",
    "    warped_image = cv2.warpPerspective(qr_img, h, (frame.shape[1],frame.shape[0]))      \n",
    "    # Prepare a mask representing region to copy from the warped image into the original frame.\n",
    "    mask = np.zeros([frame.shape[0], frame.shape[1]], dtype=np.uint8)\n",
    "    cv2.fillConvexPoly(mask, np.int32(pts_dst), (255, 255, 255), cv2.LINE_AA)\n",
    "    im_out = cv2.add(frame, warped_image, mask=cv2.bitwise_not(mask))\n",
    "    im_out = cv2.add(im_out, warped_image)\n",
    "    return im_out"
   ]
  },
  {
   "cell_type": "code",
   "execution_count": 60,
   "metadata": {},
   "outputs": [],
   "source": [
    "####### ค่าจากการ calibation #######\n",
    "params_dir = os.getcwd()+'/camera_params/monocular_camera_params/'\n",
    "K = np.load(params_dir+'K.npy')\n",
    "dist = np.load(params_dir+'dist.npy')"
   ]
  },
  {
   "cell_type": "code",
   "execution_count": 54,
   "metadata": {},
   "outputs": [],
   "source": [
    "vdo = cv2.VideoCapture('./Dataset-1/left_output-1.avi')\n",
    "tp_img = cv2.imread('./Templates/Template-1.png')\n",
    "tp_gray = cv2.cvtColor(tp_img, cv2.COLOR_BGR2GRAY)\n",
    "qr_img = cv2.imread('./QR-Code.jpg')\n",
    "qr_img_size = qr_img.shape[:2]\n",
    "src_points = np.float32([[0,0], [qr_img_size[1],0],[qr_img_size[1], qr_img_size[0]] ,[0, qr_img_size[0]] ])\n",
    "\n",
    "while vdo.isOpened():\n",
    "    ret,frame = vdo.read()\n",
    "    ############## ปรับให้ video สว่างขึ้น ###############\n",
    "    kernal = np.array([ [0,0,0], [0,1.7,0], [0,0,0]] )\n",
    "    bright = cv2.filter2D(frame,-1, kernal) \n",
    "    vdo_gray = cv2.cvtColor(bright, cv2.COLOR_BGR2GRAY)\n",
    "    \n",
    "    if ret :\n",
    "        \n",
    "        sift = cv2.SIFT_create()\n",
    "        Bf = cv2.BFMatcher()\n",
    "\n",
    "        template_kpts, template_desc = sift.detectAndCompute(tp_gray, None)\n",
    "        query_kpts, query_desc = sift.detectAndCompute(vdo_gray, None)\n",
    "        matches = Bf.knnMatch(template_desc, query_desc, k=2)\n",
    "        good_matches = list()\n",
    "        good_matches_list = list()\n",
    "\n",
    "        for m, n in matches :\n",
    "            if m.distance < 0.7*n.distance :\n",
    "                good_matches.append(m)\n",
    "                good_matches_list.append([m])\n",
    "    \n",
    "        if len(good_matches) > 16 :\n",
    "            src_pts = np.float32([ template_kpts[m.queryIdx].pt for m in good_matches ]).reshape(-1,1,2)\n",
    "            dst_pts = np.float32([ query_kpts[m.trainIdx].pt for m in good_matches ]).reshape(-1,1,2)\n",
    "\n",
    "            H, inlier_masks = cv2.findHomography(src_pts, dst_pts, cv2.RANSAC, 1.3) # H RANSAC\n",
    "          \n",
    "            h, w = tp_img.shape[:2]\n",
    "            template_box = np.float32([[0, 0], [0, h-1], [w-1, h-1], [w-1, 0]]).reshape(-1,1,2)\n",
    "            transformed_box = cv2.perspectiveTransform(template_box, H)\n",
    "            \n",
    "            detection_img = cv2.polylines(frame, [np.int32(transformed_box)], True, (2,20,200), 2, cv2.LINE_AA)\n",
    "            draw_img = cv2.drawMatchesKnn(tp_img, template_kpts, detection_img, query_kpts, good_matches_list, None, flags=2, matchesMask=inlier_masks)\n",
    "            ################# warp qr code ##################################\n",
    "            augmented = augmented_image(detection_img, qr_img, src_points, transformed_box)\n",
    "            markerCorners, markerIds, rejectedCandidates = cv2.aruco.detectMarkers(augmented, AruCo_dict, parameters = AruCo_params)\n",
    "            ####### ตรวจจับ qr code เพื่อทำการระบุพิกัดแกน x,y,z #######\n",
    "            if len(markerCorners) > 0: ### จำนวน qr ที่ตรวจจับ \n",
    "                xyz = cv2.aruco.drawDetectedMarkers(augmented, markerCorners)\n",
    "                rvecs, tvecs, points = cv2.aruco.estimatePoseSingleMarkers(markerCorners , 0.08, K, dist)\n",
    "                for (rvec, tvec, id, corner) in zip(rvecs, tvecs, markerIds, markerCorners) :\n",
    "                    xyz = cv2.aruco.drawAxis(augmented, K, dist, rvec, tvec, 0.08)\n",
    "                    x = tvec[0,0]\n",
    "                    y = tvec[0,1]\n",
    "                    z = tvec[0,2]\n",
    "                    text = \"x = {:.2f} y = {:.2f} z = {:.2f}\".format( x, y, z)\n",
    "                    cX = (corner[0,0][0] + corner[0,2][0]) / 2\n",
    "                    cY = (corner[0,0][1] + corner[0,2][1]) / 2\n",
    "                    write_text(frame, (cX, cY), 20, text)\n",
    "                ret, brvec, btvec = cv2.aruco.estimatePoseBoard(markerCorners, markerIds, board, K, dist, rvecs, tvecs) \n",
    "            if ret :\n",
    "                   xyz = cv2.aruco.drawAxis(augmented, K, dist, brvec, btvec, 0.08)\n",
    "\n",
    "            cv2.imshow('VIDEO',frame)\n",
    "\n",
    "        if cv2.waitKey(int(1000/30)) & 0xFF == ord('q') : \n",
    "            break\n",
    "    else :\n",
    "        break\n",
    "\n",
    "vdo.release()\n",
    "cv2.destroyAllWindows()"
   ]
  }
 ],
 "metadata": {
  "interpreter": {
   "hash": "212053b7d75fb97d2cdda2006f8f16dff54aec66948d7b3f32fcb554563c28ad"
  },
  "kernelspec": {
   "display_name": "Python 3.8.8 64-bit ('base': conda)",
   "language": "python",
   "name": "python3"
  },
  "language_info": {
   "codemirror_mode": {
    "name": "ipython",
    "version": 3
   },
   "file_extension": ".py",
   "mimetype": "text/x-python",
   "name": "python",
   "nbconvert_exporter": "python",
   "pygments_lexer": "ipython3",
   "version": "3.8.8"
  },
  "orig_nbformat": 4
 },
 "nbformat": 4,
 "nbformat_minor": 2
}
